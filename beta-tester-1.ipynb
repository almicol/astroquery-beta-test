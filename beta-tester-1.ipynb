{
 "cells": [
  {
   "cell_type": "markdown",
   "metadata": {},
   "source": [
    "<hr style=\"border:2px solid #0281c9\"> </hr>\n",
    "\n",
    "<img align=\"left\" alt=\"ESO Logo\" src=\"http://archive.eso.org/i/esologo.png\">  \n",
    "\n",
    "<div align=\"center\">\n",
    "  <h1 style=\"color: #0281c9; font-weight: bold;\">ESO Science Archive</h1> \n",
    "  <h2 style=\"color: #0281c9; font-weight: bold;\">Astroquery Beta Test - April 2025</h2>\n",
    "</div>\n",
    "\n",
    "<hr style=\"border:2px solid #0281c9\"> </hr>"
   ]
  },
  {
   "cell_type": "markdown",
   "metadata": {},
   "source": [
    "_This notebook focuses specifically on recent developments related to the transition from the WDB backend to the TAP backend._ - [DFS-19635](https://jira.eso.org/browse/DFS-19635)\n",
    "\n",
    "Feedback expected from beta testers:\n",
    "\n",
    " - What absolutely needs to be fixed before the release\n",
    " - What would be nice to be fixed before the release\n",
    " - Feature ideas and improvements for subsequent releases\n",
    "\n",
    "The current astroquery ESO module documentation will mostly work: https://astroquery.readthedocs.io/en/latest/eso/eso.html\n",
    "For the parts that unevitably needed changes, the updated documentation is found in the `docs` folder in this repository:\n",
    "`./docs/AstroqueryEsoDocumentation-Beta.pdf` and `./docs/AstroqueryEsoDocstrings-Beta.pdf`\n"
   ]
  },
  {
   "cell_type": "code",
   "execution_count": null,
   "metadata": {},
   "outputs": [],
   "source": [
    "!bash install_astroquery.sh"
   ]
  },
  {
   "cell_type": "markdown",
   "metadata": {},
   "source": [
    "## Handy imports and functions"
   ]
  },
  {
   "cell_type": "code",
   "execution_count": null,
   "metadata": {},
   "outputs": [],
   "source": [
    "import os\n",
    "import pandas as pd\n",
    "import astropy.table.table as aqtable\n",
    "from pyvo.dal.exceptions import DALQueryError, DALServiceError\n",
    "from IPython.display import clear_output\n",
    "\n",
    "def table_to_csv(aqtable: aqtable, filepath: str):\n",
    "    aqtable.to_pandas().to_csv(filepath)\n",
    "    print(f\"Table saved to {filepath}\")"
   ]
  },
  {
   "cell_type": "markdown",
   "metadata": {},
   "source": [
    "## ESO instance"
   ]
  },
  {
   "cell_type": "code",
   "execution_count": null,
   "metadata": {},
   "outputs": [],
   "source": [
    "from astroquery.eso import Eso\n",
    "\n",
    "eso_instance = Eso()\n",
    "\n",
    "eso_instance.maxrec = 1000\n",
    "\n",
    "print(f\"ESO tap_url = {eso_instance._tap_url()}\")"
   ]
  },
  {
   "cell_type": "markdown",
   "metadata": {},
   "source": [
    "## Query Raw Data"
   ]
  },
  {
   "cell_type": "code",
   "execution_count": null,
   "metadata": {},
   "outputs": [],
   "source": [
    "my_table = eso_instance.query_main()\n",
    "table_to_csv(my_table, \"./eso_aq_example_query_main.csv\")\n",
    "# my_table[:2].show_in_notebook()"
   ]
  },
  {
   "cell_type": "markdown",
   "metadata": {},
   "source": [
    "## Query Phase 3 Data"
   ]
  },
  {
   "cell_type": "code",
   "execution_count": null,
   "metadata": {},
   "outputs": [],
   "source": [
    "available_surveys = eso_instance.list_surveys()\n",
    "\n",
    "print(pd.DataFrame({\"survey\": available_surveys}).to_string())"
   ]
  },
  {
   "cell_type": "code",
   "execution_count": null,
   "metadata": {},
   "outputs": [],
   "source": [
    "my_table = eso_instance.query_surveys()\n",
    "\n",
    "table_to_csv(my_table, \"./eso_aq_example_query_surveys.csv\")\n",
    "# my_table[:2].show_in_notebook()"
   ]
  },
  {
   "cell_type": "code",
   "execution_count": null,
   "metadata": {},
   "outputs": [],
   "source": [
    "my_table = eso_instance.query_surveys('SPHERE')\n",
    "\n",
    "table_to_csv(my_table, \"./eso_aq_example_query_surveys_sphere.csv\")\n",
    "# my_table.show_in_notebook()"
   ]
  },
  {
   "cell_type": "code",
   "execution_count": null,
   "metadata": {},
   "outputs": [],
   "source": [
    "my_table = eso_instance.query_surveys(['SPHERE', 'VEGAS'])\n",
    "my_table_2 = eso_instance.query_surveys('SPHERE, VEGAS')\n",
    "assert all(my_table.values_equal(my_table_2))\n",
    "\n",
    "table_to_csv(my_table, \"./eso_aq_example_query_surveys_sphere_vegas.csv\")\n",
    "\n",
    "#my_table.show_in_notebook()"
   ]
  },
  {
   "cell_type": "markdown",
   "metadata": {},
   "source": [
    "## Query Instrument Specific Data"
   ]
  },
  {
   "cell_type": "code",
   "execution_count": null,
   "metadata": {},
   "outputs": [],
   "source": [
    "available_instruments = eso_instance.list_instruments()\n",
    "\n",
    "if available_instruments is None:\n",
    "    print(\"No available instruments: This is expected, since the ISTs are only available in the INT server for the moment.\")\n",
    "\n",
    "    print(\"Available instruments in the INT server:\\n\")\n",
    "\n",
    "    os.environ[\"ESO_TAP_URL\"] = \"http://dfidev5.hq.eso.org:8123/tap_obs\"\n",
    "    available_instruments = eso_instance.list_instruments()\n",
    "    del os.environ[\"ESO_TAP_URL\"]\n",
    "\n",
    "print(pd.DataFrame({\"instrument\": available_instruments}).to_string())"
   ]
  },
  {
   "cell_type": "code",
   "execution_count": null,
   "metadata": {},
   "outputs": [],
   "source": [
    "try:\n",
    "    my_table = eso_instance.query_instrument(\"midi\")\n",
    "except DALQueryError as e:\n",
    "    print(f\"DALQueryError expected since the ISTS are available only in the INT server.\")\n",
    "    os.environ[\"ESO_TAP_URL\"] = \"http://dfidev5.hq.eso.org:8123/tap_obs\"\n",
    "    print(\"Querying now the INT server...\")\n",
    "    my_table = eso_instance.query_instrument(\"midi\")\n",
    "finally:\n",
    "    del(os.environ[\"ESO_TAP_URL\"])\n",
    "\n",
    "table_to_csv(my_table, \"./eso_aq_example_query_instrument_midi.csv\")\n",
    "# my_table.show_in_notebook()"
   ]
  },
  {
   "cell_type": "markdown",
   "metadata": {},
   "source": [
    "## Query some columns"
   ]
  },
  {
   "cell_type": "code",
   "execution_count": null,
   "metadata": {},
   "outputs": [],
   "source": [
    "my_table = eso_instance.query_main(columns=[\"target\", \"instrument\", \"date_obs\", \"access_url\", \"datalink_url\"])\n",
    "table_to_csv(my_table, \"./eso_aq_example_query_main_columns.csv\")\n",
    "#my_table[0:3].show_in_notebook()"
   ]
  },
  {
   "cell_type": "markdown",
   "metadata": {},
   "source": [
    "## Info before launching a query"
   ]
  },
  {
   "cell_type": "markdown",
   "metadata": {},
   "source": [
    "### Rows and columns"
   ]
  },
  {
   "cell_type": "code",
   "execution_count": null,
   "metadata": {},
   "outputs": [],
   "source": [
    "eso_instance.query_main(help=True) # TO IMPROVE\n",
    "\n",
    "# Originally: query_something(help=True)\n",
    "# But `help` is a reserved word in python\n",
    "\n",
    "# IDEAS:\n",
    "# eso_instance.query_main(print_info=True)\n",
    "# help(eso_instance.query_main) eso.query_main?"
   ]
  },
  {
   "cell_type": "markdown",
   "metadata": {},
   "source": [
    "### Number of records"
   ]
  },
  {
   "cell_type": "code",
   "execution_count": null,
   "metadata": {},
   "outputs": [],
   "source": [
    "q_str = eso_instance.query_main(count_only=True)\n",
    "count_m = eso_instance.query_main(instrument=\"MUSE\", count_only=True)\n",
    "#print(f\"Counts: {count_n:0.2e}, {count_m:0.2e}\")\n",
    "\n",
    "q_str = eso_instance.query_surveys('MUSE', count_only=True)\n",
    "count_m = eso_instance.query_surveys('MUSE', ra=18, dec=0 , radius=1, count_only=True)\n",
    "#print(f\"Counts: {count_n:0.2e}, {count_m:0.2e}\")"
   ]
  },
  {
   "cell_type": "code",
   "execution_count": null,
   "metadata": {},
   "outputs": [],
   "source": [
    "survey_nrows = {\"survey\": [], \"num_records\": []}\n",
    "for x in available_surveys:\n",
    "    n = eso_instance.query_surveys(x, count_only=True)\n",
    "    survey_nrows[\"num_records\"].append(n)\n",
    "    survey_nrows[\"survey\"].append(x)\n",
    "    print(x, n)\n",
    "\n",
    "clear_output()\n",
    "print(pd.DataFrame(survey_nrows).to_string())"
   ]
  },
  {
   "cell_type": "markdown",
   "metadata": {},
   "source": [
    "### Column names as list"
   ]
  },
  {
   "cell_type": "code",
   "execution_count": null,
   "metadata": {},
   "outputs": [],
   "source": [
    "column_list = list(eso_instance.query_main(top=1).columns)\n",
    "print(pd.DataFrame(column_list).to_string())"
   ]
  },
  {
   "cell_type": "markdown",
   "metadata": {},
   "source": [
    "## Limit the number of records - _top_ vs _maxrec_"
   ]
  },
  {
   "cell_type": "markdown",
   "metadata": {},
   "source": [
    " - `top`: \"I don't care how many records there are, give me only the _top N_, because my science requires only those.\"\n",
    " - `maxrec`: \"Give me as many records as possible given my computational resources and time constraints. Please warn me if results are truncated.\"\n",
    "\n",
    "Key Differences:\n",
    "\n",
    " - Scope: `TOP` is used within the ADQL query to limit the number of rows returned by that specific query. In contrast, `maxrec` is a TAP service parameter that sets an upper limit on the number of records any query can return, acting as a server-side `safeguard` control.\n",
    "\n",
    " - Implementation: `TOP` is specified in the query language (ADQL), whereas `maxrec` is a parameter of the TAP service protocol, often set outside the query itself."
   ]
  },
  {
   "cell_type": "code",
   "execution_count": null,
   "metadata": {},
   "outputs": [],
   "source": [
    "eso_instance.maxrec = None \n",
    "eso_instance.query_main(top=3)"
   ]
  },
  {
   "cell_type": "code",
   "execution_count": null,
   "metadata": {},
   "outputs": [],
   "source": [
    "eso_instance.maxrec = 3\n",
    "eso_instance.query_main()"
   ]
  },
  {
   "cell_type": "code",
   "execution_count": null,
   "metadata": {},
   "outputs": [],
   "source": [
    "eso_instance.maxrec = 5\n",
    "eso_instance.query_main(top=10)"
   ]
  },
  {
   "cell_type": "code",
   "execution_count": null,
   "metadata": {},
   "outputs": [],
   "source": [
    "eso_instance.maxrec = 10\n",
    "eso_instance.query_main(top=5)"
   ]
  },
  {
   "cell_type": "code",
   "execution_count": null,
   "metadata": {},
   "outputs": [],
   "source": [
    "eso_instance.maxrec = 1000"
   ]
  },
  {
   "cell_type": "markdown",
   "metadata": {},
   "source": [
    "## Filter in advance"
   ]
  },
  {
   "cell_type": "code",
   "execution_count": null,
   "metadata": {},
   "outputs": [],
   "source": [
    "my_table = eso_instance.query_surveys(\"sphere, vegas\",\n",
    "                                          columns=\"obs_survey, calib_level, multi_ob, filter, s_pixel_scale, instrument_name\" ,\n",
    "                                          calib_level=3,\n",
    "                                          multi_ob='M')\n",
    "\n",
    "table_to_csv(my_table, \"./eso_aq_example_filter_vegas.csv\")"
   ]
  },
  {
   "cell_type": "markdown",
   "metadata": {},
   "source": [
    "## Filter afterwards"
   ]
  },
  {
   "cell_type": "code",
   "execution_count": null,
   "metadata": {},
   "outputs": [],
   "source": [
    "my_table[my_table[\"s_pixel_scale\"] > 0.2]"
   ]
  },
  {
   "cell_type": "markdown",
   "metadata": {},
   "source": [
    "## Free ADQL query"
   ]
  },
  {
   "cell_type": "code",
   "execution_count": null,
   "metadata": {},
   "outputs": [],
   "source": [
    "eso_instance.query_tap_service(\"Select obs_survey, count(*) from ivoa.ObsCore group by obs_survey order by obs_survey\")"
   ]
  },
  {
   "cell_type": "code",
   "execution_count": null,
   "metadata": {},
   "outputs": [],
   "source": [
    "eso_instance.query_tap_service(\"Select obs_survey, calib_level, multi_ob, filter, s_pixel_scale, instrument_name \"\n",
    "                               \"from ivoa.ObsCore where \"\n",
    "                               \"obs_survey in ('sphere', 'vegas') and \"\n",
    "                               \"calib_level=3 and \"\n",
    "                               \"multi_ob='M' and \"\n",
    "                               \"s_pixel_scale < 0.2\")"
   ]
  },
  {
   "cell_type": "markdown",
   "metadata": {},
   "source": [
    "## Bug fixing and possible improvements"
   ]
  },
  {
   "cell_type": "markdown",
   "metadata": {},
   "source": [
    "### Authenticated queries - MISSING"
   ]
  },
  {
   "cell_type": "markdown",
   "metadata": {},
   "source": [
    " - Even when the login is correct, the query is unauthenticated.\n",
    " - No authenticated queries possible --> No risk of data leaks."
   ]
  },
  {
   "cell_type": "code",
   "execution_count": null,
   "metadata": {},
   "outputs": [],
   "source": [
    "eso_instance.login(username='jcarmonaops')"
   ]
  },
  {
   "cell_type": "code",
   "execution_count": null,
   "metadata": {},
   "outputs": [],
   "source": [
    "h = eso_instance._get_auth_header()\n",
    "eso_instance._session.headers = {**eso_instance._session.headers,\n",
    "                                 **eso_instance._get_auth_header()}\n",
    "\n",
    "tap_auth = pyvo.dal.TAPService(eso_instance._tap_url(), session=eso_instance._session)\n",
    "tap = pyvo.dal.TAPService(eso_instance._tap_url())\n",
    "\n",
    "print(eso_instance._session.headers)\n",
    "\n",
    "_ = tap.search(\"select count(*) from dbo.raw\")\n",
    "print(_) # 34424443\n",
    "\n",
    "try:\n",
    "    _ = tap_auth.search(\"select count(*) from dbo.raw\")\n",
    "    print(_) # 48186661\n",
    "except DALServiceError as e:\n",
    "    print(\"Error in auth query\")\n"
   ]
  },
  {
   "cell_type": "code",
   "execution_count": null,
   "metadata": {},
   "outputs": [],
   "source": [
    "{**{1:2}, **{1:3}}"
   ]
  },
  {
   "cell_type": "markdown",
   "metadata": {},
   "source": [
    "### Help message - IMPROVEMENT"
   ]
  },
  {
   "cell_type": "code",
   "execution_count": null,
   "metadata": {},
   "outputs": [],
   "source": [
    "eso_instance.query_surveys(print_help=True)\n",
    "# help(query_...)\n",
    "# make the output look nicer"
   ]
  },
  {
   "cell_type": "markdown",
   "metadata": {},
   "source": [
    "### Cone search - BUG - SOLVED"
   ]
  },
  {
   "cell_type": "code",
   "execution_count": null,
   "metadata": {},
   "outputs": [],
   "source": [
    "q_str = eso_instance.query_main(asdasd='asdasd', query_str_only=True)\n",
    "print(q_str)\n",
    "\n",
    "q_str = eso_instance.query_main(ra=18, dec=0 , radius=0.1, query_str_only=True)\n",
    "print(q_str)\n",
    "\n",
    "q_str = eso_instance.query_main(ra=18, dec=0 , radius=0.1, asdasd='asdasd', query_str_only=True)\n",
    "print(q_str)"
   ]
  },
  {
   "cell_type": "code",
   "execution_count": null,
   "metadata": {},
   "outputs": [],
   "source": [
    "my_table = eso_instance.query_surveys(surveys='MUSE', ra=150, dec=-59, radius=1, columns=\"target_name, s_ra, s_dec, s_region\")\n",
    "my_table = eso_instance.query_surveys(ra=150, dec=-59, radius=1, columns=\"target_name, s_ra, s_dec, s_region\")\n",
    "#table_to_csv(my_table, \"./eso_aq_example_cone_search.csv\")"
   ]
  },
  {
   "cell_type": "markdown",
   "metadata": {},
   "source": [
    "### `count_only` - BUG - Related to cone search - Solved"
   ]
  },
  {
   "cell_type": "code",
   "execution_count": null,
   "metadata": {},
   "outputs": [],
   "source": [
    "# Filtering gives the same count ... ?\n",
    "\n",
    "# - Qery survey #\n",
    "\n",
    "count_m = eso_instance.query_surveys('MUSE', ra=18, dec=0 , radius=1, count_only=True, query_str_only=False)\n",
    "print(count_m)\n",
    "print()\n",
    "\n",
    "count_m = eso_instance.query_surveys(ra=18, dec=0 , radius=1, count_only=True, query_str_only=False)\n",
    "print(count_m)\n",
    "print()\n",
    "\n",
    "# - Query main - #\n",
    "\n",
    "count_m = eso_instance.query_main('MUSE', ra=18, dec=0 , radius=1, count_only=True, query_str_only=False)\n",
    "print(count_m)\n",
    "print()\n",
    "\n",
    "count_m = eso_instance.query_main(ra=18, dec=0 , radius=1, count_only=True, query_str_only=False)\n",
    "print(count_m)\n",
    "print()\n",
    "\n",
    "# - Query instrument - #\n",
    "\n",
    "#count_m = eso_instance.query_instrument('MUSE', ra=18, dec=0 , radius=1, count_only=True, query_str_only=False)\n",
    "#print(count_m)\n",
    "#print()"
   ]
  },
  {
   "cell_type": "code",
   "execution_count": null,
   "metadata": {},
   "outputs": [],
   "source": [
    "# BUG\n",
    "os.environ[\"ESO_TAP_URL\"] = \"http://dfidev5.hq.eso.org:8123/tap_obs\"\n",
    "q_str = eso_instance.query_instrument('MUSE', count_only=True)\n",
    "count_m = eso_instance.query_instrument(instrument='MUSE', ra=18, dec=0 , radius=1, count_only=True)\n",
    "print(q_str, count_m)\n",
    "del os.environ[\"ESO_TAP_URL\"]"
   ]
  },
  {
   "cell_type": "markdown",
   "metadata": {},
   "source": [
    "### Function Names - DECISION"
   ]
  },
  {
   "cell_type": "markdown",
   "metadata": {},
   "source": [
    " - Raw:    `query_main()` --> ?\n",
    " - Phase3: `query_surveys()` --> ? \n",
    " - ISTs:   `query_instrument()` --> ?"
   ]
  },
  {
   "cell_type": "markdown",
   "metadata": {},
   "source": [
    "## Missing items for this release"
   ]
  },
  {
   "cell_type": "markdown",
   "metadata": {},
   "source": [
    "TAP (Done by 21th March):\n",
    " - ISTS --> Alberto\n",
    " - Apex quicklook products --> Alberto\n",
    "\n",
    "Astroquery (Done by 1st April):\n",
    " - Agree on function names ----> ALL, EVERYONE\n",
    " - Bug fixing and improvements --> Juan\n",
    " - Docstrings to the public functions --> Juan\n",
    " - Authenticated queries --> Juan\n",
    " - Documentation --> Ashley, Juan\n",
    "\n",
    "Done by 15h April\n",
    " - Internal review and testing (ESO) --> Ashley, Stefano, Alberto; Julien, Johan, Eric, Amelia, Anna, Antoine; Paranal (Andrea); Friendly external users.\n",
    " - External review --> astroquery people - Submit by 30th of April"
   ]
  },
  {
   "cell_type": "markdown",
   "metadata": {},
   "source": [
    "## Upcoming features for next releases"
   ]
  },
  {
   "cell_type": "markdown",
   "metadata": {},
   "source": [
    "To be discussed at the moment of submiting PR for review:\n",
    " \n",
    " - query_catalogues\n",
    " - SkyCoord\n",
    " - query_region\n",
    " - query_object\n",
    " - OR, >, <, between, like, ...\n",
    " - Uncorrelated random sample queries\n",
    " - cutouts - definition and download\n",
    " - asyncronous queries\n",
    " - ? previews, ssap, datalink\n",
    " - parameter `pint_query = True` prints the query executed. Example: `query_main(..., print_query=True)`\n",
    " - sort results (order by)"
   ]
  },
  {
   "cell_type": "markdown",
   "metadata": {},
   "source": [
    "<hr style=\"border:2px solid #0281c9\"> </hr>\n",
    "\n",
    "<div align=\"center\">\n",
    "  <h1 style=\"color: #0281c9; font-weight: bold;\"> </h1> \n",
    "  <h2 style=\"color: #0281c9; font-weight: bold;\"> </h2>\n",
    "</div>\n",
    "\n",
    "<hr style=\"border:2px solid #0281c9\"> </hr>"
   ]
  },
  {
   "cell_type": "code",
   "execution_count": null,
   "metadata": {},
   "outputs": [],
   "source": [
    "from astroquery.eso import Eso\n",
    "import os\n",
    "\n",
    "eso_instance = Eso()\n",
    "eso_instance.maxrec = -1\n",
    "l1 = eso_instance.list_surveys()\n",
    "l2 = eso_instance.query_tap_service(\"select distinct obs_survey from ivoa.ObsCore\")\n",
    "\n",
    "#del os.environ[\"ESO_TAP_URL\"]\n",
    "#eso_instance.tap_url()"
   ]
  },
  {
   "cell_type": "code",
   "execution_count": null,
   "metadata": {},
   "outputs": [],
   "source": [
    "eso_instance.query_instrument('midi', column_filters={'target':'NGC 4151',\n",
    "                                                     'exp_start':'2007-01-01',\n",
    "                                                     'etime':'2008-01-01'},\n",
    "\n",
    "                             columns=['night'])"
   ]
  },
  {
   "cell_type": "code",
   "execution_count": null,
   "metadata": {},
   "outputs": [],
   "source": [
    "\",\".join(l1)"
   ]
  },
  {
   "cell_type": "code",
   "execution_count": null,
   "metadata": {},
   "outputs": [],
   "source": [
    "l2 = list(l2[\"obs_survey\"].data)\n"
   ]
  },
  {
   "cell_type": "code",
   "execution_count": null,
   "metadata": {},
   "outputs": [],
   "source": [
    "set(l1) - set(l2)"
   ]
  },
  {
   "cell_type": "code",
   "execution_count": null,
   "metadata": {},
   "outputs": [],
   "source": [
    "set(l2) - set(l1)"
   ]
  },
  {
   "cell_type": "code",
   "execution_count": null,
   "metadata": {},
   "outputs": [],
   "source": []
  }
 ],
 "metadata": {
  "kernelspec": {
   "display_name": "Python 3",
   "language": "python",
   "name": "python3"
  },
  "language_info": {
   "codemirror_mode": {
    "name": "ipython",
    "version": 3
   },
   "file_extension": ".py",
   "mimetype": "text/x-python",
   "name": "python",
   "nbconvert_exporter": "python",
   "pygments_lexer": "ipython3",
   "version": "3.9.6"
  }
 },
 "nbformat": 4,
 "nbformat_minor": 2
}
